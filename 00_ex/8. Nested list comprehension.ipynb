{
 "cells": [
  {
   "cell_type": "markdown",
   "id": "41fe34ea",
   "metadata": {},
   "source": [
    "8. Nested list comprehension\n",
    "\n"
   ]
  },
  {
   "cell_type": "code",
   "execution_count": 24,
   "id": "b4fc9b74",
   "metadata": {},
   "outputs": [
    {
     "name": "stdout",
     "output_type": "stream",
     "text": [
      "[{3, 4, 5.0}, {13.0, 12, 5}, {8, 10.0, 6}, {24, 25.0, 7}, {8, 17.0, 15}, {9, 12, 15.0}, {40, 9, 41.0}, {24, 10, 26.0}, {11, 60, 61.0}, {16, 12, 20.0}, {35, 12, 37.0}, {85.0, 84, 13}, {48, 50.0, 14}, {25.0, 20, 15}, {36, 39.0, 15}, {16, 34.0, 30}, {16, 65.0, 63}, {24, 18, 30.0}, {80, 18, 82.0}, {29.0, 20, 21}, {48, 20, 52.0}, {35.0, 28, 21}, {72, 75.0, 21}, {24, 32, 40.0}, {24, 51.0, 45}, {24, 74.0, 70}, {65.0, 25, 60}, {27, 36, 45.0}, {53.0, 28, 45}, {40, 50.0, 30}, {72, 78.0, 30}, {32, 60, 68.0}, {33, 44, 55.0}, {56, 33, 65.0}, {91.0, 35, 84}, {48, 36, 60.0}, {85.0, 36, 77}, {65.0, 52, 39}, {80, 89.0, 39}, {40, 42, 58.0}, {40, 75, 85.0}, {56, 42, 70.0}, {75.0, 60, 45}, {48, 73.0, 55}, {48, 80.0, 64}, {51, 68, 85.0}, {72, 90.0, 54}, {57, 76, 95.0}, {60, 87.0, 63}, {72, 65, 97.0}]\n"
     ]
    }
   ],
   "source": [
    "f = []\n",
    "g = set()\n",
    "\n",
    "\n",
    "for a in range(1,101) :\n",
    "    for b in range(1,101) :\n",
    "        c = (a**2+b**2)**0.5\n",
    "        if c<100 and c.is_integer() :\n",
    "            g = {a, b, c}\n",
    "            if g not in f :\n",
    "                f.append(g)\n",
    "            \n",
    "print(f)"
   ]
  },
  {
   "cell_type": "code",
   "execution_count": 22,
   "id": "0bafb4e7",
   "metadata": {},
   "outputs": [
    {
     "name": "stdout",
     "output_type": "stream",
     "text": [
      "False\n"
     ]
    },
    {
     "data": {
      "text/plain": [
       "5.0"
      ]
     },
     "execution_count": 22,
     "metadata": {},
     "output_type": "execute_result"
    }
   ],
   "source": [
    "a = 3.1\n",
    "print(a.is_integer())\n",
    "25**0.5"
   ]
  },
  {
   "cell_type": "code",
   "execution_count": null,
   "id": "5d841f43",
   "metadata": {},
   "outputs": [],
   "source": []
  }
 ],
 "metadata": {
  "kernelspec": {
   "display_name": "Python 3 (ipykernel)",
   "language": "python",
   "name": "python3"
  },
  "language_info": {
   "codemirror_mode": {
    "name": "ipython",
    "version": 3
   },
   "file_extension": ".py",
   "mimetype": "text/x-python",
   "name": "python",
   "nbconvert_exporter": "python",
   "pygments_lexer": "ipython3",
   "version": "3.9.12"
  }
 },
 "nbformat": 4,
 "nbformat_minor": 5
}
