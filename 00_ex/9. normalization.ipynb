{
 "cells": [
  {
   "cell_type": "code",
   "execution_count": 12,
   "id": "b3db13c9",
   "metadata": {},
   "outputs": [
    {
     "name": "stdout",
     "output_type": "stream",
     "text": [
      "[0.5547001962252291, 0.8320502943378437, 0.0]\n"
     ]
    }
   ],
   "source": [
    "def norm(t):\n",
    "    norm = 0\n",
    "    for i in t:\n",
    "        norm = norm + i**2\n",
    "    norm = norm**0.5\n",
    "    return norm\n",
    "    \n",
    "def normalize(t):\n",
    "    return [x / norm(t) for x in t]\n",
    "\n",
    "t = (2, 3, 0)\n",
    "print(normalize(t))"
   ]
  },
  {
   "cell_type": "code",
   "execution_count": null,
   "id": "f5c58478",
   "metadata": {},
   "outputs": [],
   "source": []
  },
  {
   "cell_type": "code",
   "execution_count": null,
   "id": "e567fb72",
   "metadata": {},
   "outputs": [],
   "source": []
  }
 ],
 "metadata": {
  "kernelspec": {
   "display_name": "Python 3 (ipykernel)",
   "language": "python",
   "name": "python3"
  },
  "language_info": {
   "codemirror_mode": {
    "name": "ipython",
    "version": 3
   },
   "file_extension": ".py",
   "mimetype": "text/x-python",
   "name": "python",
   "nbconvert_exporter": "python",
   "pygments_lexer": "ipython3",
   "version": "3.9.12"
  }
 },
 "nbformat": 4,
 "nbformat_minor": 5
}
