{
 "cells": [
  {
   "cell_type": "markdown",
   "metadata": {},
   "source": [
    "# Modules/packages/libraries\n",
    "\n",
    "Definitions:\n",
    "\n",
    "  * Modules:\n",
    "  A module is a file which contains python functions, global variables etc. It is nothing but .py file which has python executable code / statement.\n",
    "\n",
    "  * Packages:\n",
    "  A package is a namespace which contains multiple package/modules. It is a directory which contains a special file `__init__.py`\n",
    "  \n",
    "  * Libraries:\n",
    "  A library is a collection of various packages. There is no difference between package and python library conceptually.\n",
    "  \n",
    "Modules/packages/libraries can be easily \"imported\" and made functional in your python code. A set of libriaries comes with every python installation. Others can be installed locally and then imported. Your own code sitting somewhere else in your local computer can be imported too.\n",
    "\n",
    "Further details (very important!) on packages and how to create them can be found online. We may find the need of creating our own during the course."
   ]
  },
  {
   "cell_type": "code",
   "execution_count": 1,
   "metadata": {},
   "outputs": [
    {
     "name": "stdout",
     "output_type": "stream",
     "text": [
      "3.141592653589793\n",
      "3.141592653589793\n",
      "3.141592653589793\n",
      "2.6457513110645907\n"
     ]
    }
   ],
   "source": [
    "###### all the \"stuff\" that is in the math library can be used\n",
    "import math\n",
    "print(math.pi)\n",
    "\n",
    "# you can give math a label for convenience\n",
    "import math as m\n",
    "print (m.pi)\n",
    "\n",
    "# alternatively you can import only a given \"thing\" from the library\n",
    "from math import pi    #you can add several libraries at once, just list them separated by a \", \"\n",
    "print (pi)\n",
    "\n",
    "# or just get everything (very dangerous!!!)\n",
    "from math import *\n",
    "print (sqrt(7))"
   ]
  },
  {
   "cell_type": "markdown",
   "metadata": {},
   "source": [
    "To know which modules are there for you to use just type:"
   ]
  },
  {
   "cell_type": "code",
   "execution_count": 5,
   "metadata": {},
   "outputs": [
    {
     "name": "stdout",
     "output_type": "stream",
     "text": [
      "\n",
      "Please wait a moment while I gather a list of all available modules...\n",
      "\n",
      "Cython              concurrent          msilib              sphinx\n",
      "IPython             conda               msvcrt              sphinxify\n",
      "OpenSSL             conda_build         multidict           sphinxthread\n",
      "PIL                 conda_content_trust multipledispatch    spyder\n",
      "PyQt5               conda_env           multiprocessing     spyder_kernels\n",
      "TBB                 conda_pack          munkres             sqlalchemy\n",
      "__future__          conda_package_handling mypackage           sqlite3\n",
      "_abc                conda_token         mypy_extensions     sre_compile\n",
      "_aix_support        conda_verify        nacl                sre_constants\n",
      "_argon2_cffi_bindings conf                navigator_updater   sre_parse\n",
      "_ast                configparser        nbclassic           ssl\n",
      "_asyncio            conftest            nbclient            sspi\n",
      "_bisect             constantly          nbconvert           sspicon\n",
      "_black_version      contextlib          nbformat            stack_data\n",
      "_blake2             contextvars         nest_asyncio        stat\n",
      "_bootlocale         cookiecutter        netbios             statistics\n",
      "_bootsubprocess     copy                netrc               statsmodels\n",
      "_bz2                copyreg             networkx            string\n",
      "_cffi_backend       crypt               nltk                stringprep\n",
      "_codecs             cryptography        nntplib             struct\n",
      "_codecs_cn          cssselect           nose                subprocess\n",
      "_codecs_hk          csv                 notebook            sunau\n",
      "_codecs_iso2022     ctypes              nt                  symbol\n",
      "_codecs_jp          curl                ntpath              sympy\n",
      "_codecs_kr          curses              ntsecuritycon       symtable\n",
      "_codecs_tw          cwp                 nturl2path          sys\n",
      "_collections        cycler              numba               sysconfig\n",
      "_collections_abc    cython              numbergen           tables\n",
      "_compat_pickle      cytoolz             numbers             tabnanny\n",
      "_compression        daal4py             numexpr             tabulate\n",
      "_contextvars        dask                numpy               tarfile\n",
      "_csv                dataclasses         numpydoc            tbb\n",
      "_ctypes             datashader          odbc                tblib\n",
      "_ctypes_test        datashape           olefile             telnetlib\n",
      "_datetime           datetime            onedal              tempfile\n",
      "_decimal            dateutil            opcode              tenacity\n",
      "_distutils_hack     dbi                 openpyxl            terminado\n",
      "_elementtree        dbm                 operator            test\n",
      "_functools          dde                 optparse            test_connect\n",
      "_hashlib            debugpy             os                  test_core\n",
      "_heapq              decimal             packaging           test_cosmology\n",
      "_imp                decorator           pandas              test_flrw\n",
      "_io                 defusedxml          pandocfilters       test_funcs\n",
      "_json               diff_match_patch    panel               test_parameter\n",
      "_locale             difflib             param               test_pickle\n",
      "_lsprof             dis                 paramiko            test_pycosat\n",
      "_lzma               distributed         parsel              test_realizations\n",
      "_markupbase         distutils           parser              test_units\n",
      "_md5                doctest             parso               test_utils\n",
      "_msi                docutils            partd               testpath\n",
      "_multibytecodec     email               past                text_unidecode\n",
      "_multiprocessing    encodings           pathlib             textdistance\n",
      "_nsis               ensurepip           pathspec            textwrap\n",
      "_opcode             entrypoints         patsy               this\n",
      "_operator           enum                pdb                 threading\n",
      "_osx_support        erfa                pep8                threadpoolctl\n",
      "_overlapped         errno               perfmon             three_merge\n",
      "_peg_parser         et_xmlfile          pexpect             tifffile\n",
      "_pickle             executing           pickle              time\n",
      "_plotly_future_     fastjsonschema      pickleshare         timeit\n",
      "_plotly_utils       faulthandler        pickletools         timer\n",
      "_py_abc             filecmp             pip                 tinycss\n",
      "_pydecimal          fileinput           pipes               tkinter\n",
      "_pyio               filelock            pkg_resources       tldextract\n",
      "_pyrsistent_version flake8              pkginfo             tlz\n",
      "_pytest             flask               pkgutil             token\n",
      "_queue              fnmatch             platform            tokenize\n",
      "_random             fontTools           plistlib            toml\n",
      "_sha1               formatter           plotly              tomli\n",
      "_sha256             fractions           pluggy              toolz\n",
      "_sha3               frozenlist          poplib              tornado\n",
      "_sha512             fsspec              posixpath           tqdm\n",
      "_signal             ftplib              poyo                trace\n",
      "_sitebuiltins       functools           pprint              traceback\n",
      "_socket             future              profile             tracemalloc\n",
      "_sqlite3            gc                  prometheus_client   traitlets\n",
      "_sre                genericpath         prompt_toolkit      tty\n",
      "_ssl                gensim              protego             turtle\n",
      "_stat               getopt              pstats              turtledemo\n",
      "_statistics         getpass             psutil              twisted\n",
      "_string             gettext             pty                 typed_ast\n",
      "_strptime           glob                ptyprocess          types\n",
      "_struct             glob2               pure_eval           typing\n",
      "_symtable           google_crc32c       pvectorc            typing_extensions\n",
      "_system_path        graphlib            py                  ujson\n",
      "_testbuffer         greenlet            py_compile          unicodedata\n",
      "_testcapi           grpc                pyasn1              unidecode\n",
      "_testconsole        gzip                pyasn1_modules      unittest\n",
      "_testimportmultiple h5py                pyclbr              urllib\n",
      "_testinternalcapi   hamcrest            pycodestyle         urllib3\n",
      "_testmultiphase     hashlib             pycosat             uu\n",
      "_thread             heapdict            pycparser           uuid\n",
      "_threading_local    heapq               pyct                venv\n",
      "_tkinter            hmac                pycurl              w3lib\n",
      "_tracemalloc        holoviews           pydispatch          warnings\n",
      "_uuid               html                pydoc               watchdog\n",
      "_warnings           http                pydoc_data          wave\n",
      "_weakref            hvplot              pydocstyle          wcwidth\n",
      "_weakrefset         hyperlink           pyexpat             weakref\n",
      "_win32sysloader     idlelib             pyflakes            webbrowser\n",
      "_winapi             idna                pygments            webencodings\n",
      "_winxptheme         imagecodecs         pylab               websocket\n",
      "_xxsubinterpreters  imageio             pylint              werkzeug\n",
      "_yaml               imagesize           pyls_spyder         wheel\n",
      "_zoneinfo           imaplib             pylsp               widgetsnbextension\n",
      "abc                 imghdr              pylsp_black         win2kras\n",
      "adodbapi            imp                 pylsp_jsonrpc       win32api\n",
      "afxres              importlib           pyodbc              win32clipboard\n",
      "aifc                importlib_metadata  pyparsing           win32com\n",
      "aiohttp             incremental         pyreadline          win32con\n",
      "aiosignal           inflection          pyrsistent          win32console\n",
      "alabaster           iniconfig           pytest              win32cred\n",
      "anaconda_navigator  inspect             pythoncom           win32crypt\n",
      "anaconda_project    intake              pytz                win32cryptcon\n",
      "antigravity         intervaltree        pyviz_comms         win32ctypes\n",
      "anyio               io                  pywin               win32event\n",
      "appdirs             ipaddress           pywin32_bootstrap   win32evtlog\n",
      "argon2              ipykernel           pywin32_testutil    win32evtlogutil\n",
      "argparse            ipykernel_launcher  pywintypes          win32file\n",
      "array               ipython_genutils    pywt                win32gui\n",
      "arrow               ipywidgets          pyximport           win32gui_struct\n",
      "ast                 isapi               qdarkstyle          win32help\n",
      "astroid             isort               qstylizer           win32inet\n",
      "astropy             isympy              qtawesome           win32inetcon\n",
      "asttokens           itemadapter         qtconsole           win32job\n",
      "async_timeout       itemloaders         qtpy                win32lz\n",
      "asynchat            itertools           queue               win32net\n",
      "asyncio             itsdangerous        queuelib            win32netcon\n",
      "asyncore            jdcal               quopri              win32pdh\n",
      "atexit              jedi                random              win32pdhquery\n",
      "atomicwrites        jinja2              rasutil             win32pdhutil\n",
      "attr                jinja2_time         re                  win32pipe\n",
      "attrs               jmespath            readline            win32print\n",
      "audioop             joblib              regcheck            win32process\n",
      "automat             json                regex               win32profile\n",
      "autopep8            json5               regutil             win32ras\n",
      "babel               jsonschema          repo_cli            win32rcparser\n",
      "backcall            jupyter             reprlib             win32security\n",
      "backports           jupyter_client      requests            win32service\n",
      "base64              jupyter_console     requests_file       win32serviceutil\n",
      "bcrypt              jupyter_core        rlcompleter         win32timezone\n",
      "bdb                 jupyter_server      rope                win32trace\n",
      "binaryornot         jupyterlab          rsa                 win32traceutil\n",
      "binascii            jupyterlab_plotly   rtree               win32transaction\n",
      "binhex              jupyterlab_pygments ruamel_yaml         win32ts\n",
      "binstar_client      jupyterlab_server   run                 win32ui\n",
      "bisect              jupyterlab_widgets  runpy               win32uiole\n",
      "bitarray            jwt                 s3transfer          win32verstamp\n",
      "bkcharts            keyring             sched               win32wnet\n",
      "black               keyword             scipy               win_inet_pton\n",
      "blackd              kiwisolver          scrapy              win_unicode_console\n",
      "bleach              lazy_object_proxy   seaborn             wincertstore\n",
      "blib2to3            lib2to3             secrets             winerror\n",
      "bokeh               libarchive          select              winioctlcon\n",
      "boto3               libfuturize         selectors           winnt\n",
      "botocore            libpasteurize       send2trash          winperf\n",
      "bottleneck          lief                service_identity    winpty\n",
      "brotli              linecache           servicemanager      winreg\n",
      "bs4                 llvmlite            setuptools          winsound\n",
      "builtins            locale              shelve              winxpgui\n",
      "bz2                 locket              shlex               winxptheme\n",
      "cProfile            logging             shutil              wrapt\n",
      "cachetools          lxml                signal              wsgiref\n",
      "calendar            lzma                sip                 xarray\n",
      "certifi             mailbox             sipconfig           xdrlib\n",
      "cffi                mailcap             sipdistutils        xlrd\n",
      "cgi                 markdown            site                xlsxwriter\n",
      "cgitb               markupsafe          six                 xlwings\n",
      "chardet             marshal             skimage             xml\n",
      "charset_normalizer  math                sklearn             xmlrpc\n",
      "chunk               matplotlib          sklearnex           xxsubtype\n",
      "click               matplotlib_inline   slugify             yaml\n",
      "cloudpickle         mccabe              smart_open          yapf\n",
      "clyent              menuinst            smtpd               yapftests\n",
      "cmath               mimetypes           smtplib             yarl\n",
      "cmd                 mistune             snappy              zict\n",
      "code                mkl                 sndhdr              zipapp\n",
      "codecs              mkl_fft             sniffio             zipfile\n",
      "codeop              mkl_random          snowballstemmer     zipimport\n",
      "collections         mmap                socket              zipp\n",
      "colorama            mmapfile            socketserver        zlib\n",
      "colorcet            mmsystem            socks               zmq\n",
      "colorsys            mock                sockshandler        zoneinfo\n",
      "commctrl            modulefinder        sortedcollections   zope\n",
      "compileall          mpmath              sortedcontainers    \n",
      "comtypes            msgpack             soupsieve           \n",
      "\n",
      "Enter any module name to get more help.  Or, type \"modules spam\" to search\n",
      "for modules whose name or summary contain the string \"spam\".\n",
      "\n",
      "None\n"
     ]
    }
   ],
   "source": [
    "print (help('modules') )\n"
   ]
  },
  {
   "cell_type": "markdown",
   "metadata": {},
   "source": [
    "`pip` is a special package. It is used from the command line to install properly (e.g. matching the version of the local packages) new packages. It can also be used from within python to check i.e. the set installed packages and their versions. N.B.: only the installed packages on top of the default ones will be listed "
   ]
  },
  {
   "cell_type": "code",
   "execution_count": null,
   "metadata": {},
   "outputs": [],
   "source": [
    "import pip\n",
    "sorted([\"%s==%s\" % (i.key, i.version) for i in pip._internal.utils.misc.get_installed_distributions()])"
   ]
  },
  {
   "cell_type": "markdown",
   "metadata": {},
   "source": [
    "# Functions"
   ]
  },
  {
   "cell_type": "code",
   "execution_count": 6,
   "metadata": {},
   "outputs": [
    {
     "name": "stdout",
     "output_type": "stream",
     "text": [
      "9\n",
      "27\n",
      "cube 27\n",
      "square 9\n"
     ]
    }
   ],
   "source": [
    "def square(x):\n",
    "    \"\"\"Square of x.\"\"\"\n",
    "    return x*x\n",
    "\n",
    "def cube(x):\n",
    "    \"\"\"Cube of x.\"\"\"\n",
    "    return x*x*x\n",
    "\n",
    "# create a dictionary of functions\n",
    "funcs = {\n",
    "    'square': square,\n",
    "    'cube': cube,\n",
    "}\n",
    "\n",
    "x = 3\n",
    "print(square(x))\n",
    "print(cube(x))\n",
    "\n",
    "for func in sorted(funcs):\n",
    "    print (func, funcs[func](x))"
   ]
  },
  {
   "cell_type": "markdown",
   "metadata": {},
   "source": [
    "## Functions arguments"
   ]
  },
  {
   "cell_type": "markdown",
   "metadata": {},
   "source": [
    "What is passsed to a function is a copy of the input. Imagine we have a list *x =[1, 2, 3]*, i.e. a mutable object. If within the function the content of *x* is directly changed (e.g. *x[0] = 999*), then *x* changes outside the funciton as well. "
   ]
  },
  {
   "cell_type": "code",
   "execution_count": 7,
   "metadata": {},
   "outputs": [
    {
     "name": "stdout",
     "output_type": "stream",
     "text": [
      "[1, 2, 3]\n",
      "[999, 2, 3]\n",
      "[999, 2, 3]\n"
     ]
    }
   ],
   "source": [
    "def modify(x):\n",
    "    x[0] = 999\n",
    "    return x\n",
    "\n",
    "x = [1,2,3]\n",
    "print (x)\n",
    "print (modify(x))\n",
    "print (x)"
   ]
  },
  {
   "cell_type": "markdown",
   "metadata": {},
   "source": [
    "However, if *x* is reassigned within the function to a new object (e.g. another list), then the copy of the name *x* now points to the new object, but *x* outside the function is unhcanged."
   ]
  },
  {
   "cell_type": "code",
   "execution_count": 8,
   "metadata": {},
   "outputs": [
    {
     "name": "stdout",
     "output_type": "stream",
     "text": [
      "[1, 2, 3]\n",
      "[4, 5, 6]\n",
      "[1, 2, 3]\n"
     ]
    }
   ],
   "source": [
    "def no_modify(x):\n",
    "    x = [4,5,6]\n",
    "    return x\n",
    "\n",
    "x = [1,2,3]\n",
    "print (x)\n",
    "print (no_modify(x))\n",
    "print (x)\n"
   ]
  },
  {
   "cell_type": "markdown",
   "metadata": {},
   "source": [
    "What if the function tries to modify the value of an immutable object?"
   ]
  },
  {
   "cell_type": "markdown",
   "metadata": {},
   "source": [
    "Binding of default arguments occurs at function definition:"
   ]
  },
  {
   "cell_type": "code",
   "execution_count": 9,
   "metadata": {},
   "outputs": [
    {
     "name": "stdout",
     "output_type": "stream",
     "text": [
      "[1]\n",
      "[1, 1]\n",
      "[9, 9, 9, 1]\n",
      "[1, 1, 1]\n",
      "[1, 1, 1, 1]\n"
     ]
    }
   ],
   "source": [
    "def f(x = []):\n",
    "    x.append(1)\n",
    "    return x\n",
    "\n",
    "print (f())\n",
    "print (f())\n",
    "print (f(x = [9,9,9]))\n",
    "print (f())\n",
    "print (f())"
   ]
  },
  {
   "cell_type": "markdown",
   "metadata": {},
   "source": [
    "Try to aviod that!!"
   ]
  },
  {
   "cell_type": "code",
   "execution_count": 10,
   "metadata": {},
   "outputs": [
    {
     "name": "stdout",
     "output_type": "stream",
     "text": [
      "[1]\n",
      "[1]\n",
      "[9, 9, 9, 1]\n",
      "[1]\n",
      "[1]\n"
     ]
    }
   ],
   "source": [
    "def f(x = None):\n",
    "    if x is None:\n",
    "        x = []\n",
    "    x.append(1)\n",
    "    return x\n",
    "\n",
    "print (f())\n",
    "print (f())\n",
    "print (f(x = [9,9,9]))\n",
    "print (f())\n",
    "print (f())"
   ]
  },
  {
   "cell_type": "markdown",
   "metadata": {},
   "source": [
    "## Higher order functions\n",
    "\n",
    "A function that uses another function as an input argument or returns a function is known as a higher-order function (HOF). The most familiar examples are `map` and `filter`."
   ]
  },
  {
   "cell_type": "markdown",
   "metadata": {},
   "source": [
    "### map\n",
    "\n",
    "The map function applies a function to each member of a collection"
   ]
  },
  {
   "cell_type": "code",
   "execution_count": 11,
   "metadata": {},
   "outputs": [
    {
     "name": "stdout",
     "output_type": "stream",
     "text": [
      "[0, 1, 4, 9, 16]\n",
      "0\n",
      "1\n",
      "4\n",
      "9\n",
      "16\n"
     ]
    },
    {
     "data": {
      "text/plain": [
       "[0, 1, 4, 9, 16, 25]"
      ]
     },
     "execution_count": 11,
     "metadata": {},
     "output_type": "execute_result"
    }
   ],
   "source": [
    "x = list(map(square, range(5))) \n",
    "print (x)\n",
    "\n",
    "# Note the difference w.r.t python 2. In python 3 map retuns an iterator so you can do stuff like:\n",
    "for i in map(square,range(5)): print(i)\n",
    "\n",
    "# or\n",
    "[i for i in map(square,range(6))]"
   ]
  },
  {
   "cell_type": "markdown",
   "metadata": {},
   "source": [
    "### filter\n",
    "\n",
    "The filter function applies a predicate to each member of a collection, retaining only those members where the predicate is True"
   ]
  },
  {
   "cell_type": "code",
   "execution_count": 12,
   "metadata": {},
   "outputs": [
    {
     "name": "stdout",
     "output_type": "stream",
     "text": [
      "[0, 2, 4]\n"
     ]
    }
   ],
   "source": [
    "def is_even(x):\n",
    "    return x%2 == 0\n",
    "\n",
    "print (list(filter(is_even, range(5))))"
   ]
  },
  {
   "cell_type": "markdown",
   "metadata": {},
   "source": [
    "Combinations in sequence of HOF are obviously possible"
   ]
  },
  {
   "cell_type": "code",
   "execution_count": 13,
   "metadata": {},
   "outputs": [
    {
     "data": {
      "text/plain": [
       "[0, 4, 16]"
      ]
     },
     "execution_count": 13,
     "metadata": {},
     "output_type": "execute_result"
    }
   ],
   "source": [
    "list(map(square, filter(is_even, range(5))))"
   ]
  },
  {
   "cell_type": "markdown",
   "metadata": {},
   "source": [
    "### reduce\n",
    "\n",
    "The reduce function reduces a collection using a binary operator to combine items two at a time. More often than not reduce can be substituted with a more efficient for loop. It is worth mentioning it for its key role in big-data applications together with map (the map-reduce paradigm). \n",
    "N.B.: it no loger exist as built-in function in python 3, it is now part of the `functools` library"
   ]
  },
  {
   "cell_type": "code",
   "execution_count": 14,
   "metadata": {},
   "outputs": [
    {
     "data": {
      "text/plain": [
       "15"
      ]
     },
     "execution_count": 14,
     "metadata": {},
     "output_type": "execute_result"
    }
   ],
   "source": [
    "from functools import reduce\n",
    "\n",
    "def my_add(x, y):\n",
    "    return x + y\n",
    "\n",
    "# another implementation of the sum function\n",
    "reduce(my_add, [1,2,3,4,5])"
   ]
  },
  {
   "cell_type": "markdown",
   "metadata": {},
   "source": [
    "### zip\n",
    "\n",
    "zip is useful when you need to iterate over matched elements of multiple lists"
   ]
  },
  {
   "cell_type": "code",
   "execution_count": 15,
   "metadata": {},
   "outputs": [
    {
     "name": "stdout",
     "output_type": "stream",
     "text": [
      "1 10 a\n",
      "2 20 b\n",
      "3 30 c\n",
      "4 40 d\n"
     ]
    }
   ],
   "source": [
    "xs = [1, 2, 3, 4]\n",
    "ys = [10, 20, 30, 40]\n",
    "zs = ['a', 'b', 'c', 'd', 'e']\n",
    "\n",
    "for x, y, z in zip(xs, ys, zs):\n",
    "    print (x, y, z)"
   ]
  },
  {
   "cell_type": "markdown",
   "metadata": {},
   "source": [
    "### Custom HOF"
   ]
  },
  {
   "cell_type": "code",
   "execution_count": null,
   "metadata": {},
   "outputs": [],
   "source": [
    "def custom_sum(xs, transform):\n",
    "    \"\"\"Returns the sum of xs after a user specified transform.\"\"\"\n",
    "    return sum(map(transform, xs))\n",
    "\n",
    "xs = range(5)\n",
    "print (custom_sum(xs, square))\n",
    "print (custom_sum(xs, cube))\n",
    "\n"
   ]
  },
  {
   "cell_type": "markdown",
   "metadata": {},
   "source": [
    "### Returning a function"
   ]
  },
  {
   "cell_type": "code",
   "execution_count": 17,
   "metadata": {},
   "outputs": [],
   "source": [
    "def make_logger(target):\n",
    "    def logger(data):\n",
    "        with open(target, 'a') as f:\n",
    "            f.write(data + '\\n')\n",
    "    return logger\n",
    "\n",
    "foo_logger = make_logger('foo.txt') #foo.txt will be created if not there already\n",
    "foo_logger('Hello')\n",
    "foo_logger('World')"
   ]
  },
  {
   "cell_type": "code",
   "execution_count": 18,
   "metadata": {},
   "outputs": [
    {
     "name": "stderr",
     "output_type": "stream",
     "text": [
      "'cat' is not recognized as an internal or external command,\n",
      "operable program or batch file.\n"
     ]
    }
   ],
   "source": [
    "! cat 'foo.txt'"
   ]
  },
  {
   "cell_type": "markdown",
   "metadata": {},
   "source": [
    "## Anonimous functions (lambda)\n",
    "\n",
    "When using functional style, there is often the need to create specific functions that perform a limited task as input to a HOF such as map or filter. In such cases, these functions are often written as anonymous or lambda functions. \n",
    "The syntax is as follows:\n",
    "\n",
    "lambda *arguments* : *expression*\n",
    "\n",
    "\n",
    "If you find it hard to understand what a lambda function is doing, it should probably be rewritten as a regular function."
   ]
  },
  {
   "cell_type": "code",
   "execution_count": null,
   "metadata": {},
   "outputs": [],
   "source": [
    "sum = lambda x,y: x+y\n",
    "sum(3,4)"
   ]
  },
  {
   "cell_type": "code",
   "execution_count": null,
   "metadata": {},
   "outputs": [],
   "source": [
    "for i in map(lambda x: x*x, range(5)): print (i)"
   ]
  },
  {
   "cell_type": "code",
   "execution_count": 22,
   "metadata": {},
   "outputs": [
    {
     "name": "stdout",
     "output_type": "stream",
     "text": [
      "285\n"
     ]
    }
   ],
   "source": [
    "# what does this function do?\n",
    "from functools import reduce\n",
    "s1 = reduce(lambda x, y: x+y, map(lambda x: x**2, range(1,10)))\n",
    "print(s1)\n"
   ]
  },
  {
   "cell_type": "markdown",
   "metadata": {},
   "source": [
    "## Recursive functions "
   ]
  },
  {
   "cell_type": "code",
   "execution_count": 26,
   "metadata": {},
   "outputs": [
    {
     "name": "stdout",
     "output_type": "stream",
     "text": [
      "[1, 1, 2, 3, 5, 8, 13, 21, 34, 55]\n"
     ]
    }
   ],
   "source": [
    "def fib1(n):\n",
    "    \"\"\"Fib with recursion.\"\"\"\n",
    "\n",
    "    # base case\n",
    "    if n==0 or n==1:\n",
    "        return 1\n",
    "    # recursive case\n",
    "    else:\n",
    "        return fib1(n-1) + fib1(n-2)\n",
    "\n",
    "    \n",
    "print ([fib1(i) for i in range(10)])"
   ]
  },
  {
   "cell_type": "code",
   "execution_count": 27,
   "metadata": {},
   "outputs": [
    {
     "name": "stdout",
     "output_type": "stream",
     "text": [
      "[1, 1, 2, 3, 5, 8, 13, 21, 34, 55]\n"
     ]
    }
   ],
   "source": [
    "# In Python, a more efficient version that does not use recursion is\n",
    "\n",
    "def fib2(n):\n",
    "    \"\"\"Fib without recursion.\"\"\"\n",
    "    a, b = 0, 1\n",
    "    for i in range(1, n+1):\n",
    "        a, b = b, a+b\n",
    "    return b\n",
    "\n",
    "print ([fib2(i) for i in range(10)])"
   ]
  },
  {
   "cell_type": "code",
   "execution_count": 29,
   "metadata": {},
   "outputs": [
    {
     "name": "stdout",
     "output_type": "stream",
     "text": [
      "2.83 ms ± 44.7 µs per loop (mean ± std. dev. of 7 runs, 100 loops each)\n",
      "1.22 µs ± 26.2 ns per loop (mean ± std. dev. of 7 runs, 1,000,000 loops each)\n"
     ]
    }
   ],
   "source": [
    "# check indeed the timing:\n",
    "\n",
    "%timeit fib1(20)\n",
    "%timeit fib2(20)\n"
   ]
  },
  {
   "cell_type": "markdown",
   "metadata": {},
   "source": [
    "## Iterators\n",
    "\n",
    "Iterators represent streams of values. Because only one value is consumed at a time, they use very little memory. Use of iterators is very helpful for working with data sets too large to fit into RAM."
   ]
  },
  {
   "cell_type": "code",
   "execution_count": 30,
   "metadata": {},
   "outputs": [
    {
     "name": "stdout",
     "output_type": "stream",
     "text": [
      "1\n",
      "2\n",
      "3\n"
     ]
    },
    {
     "ename": "StopIteration",
     "evalue": "",
     "output_type": "error",
     "traceback": [
      "\u001b[1;31m---------------------------------------------------------------------------\u001b[0m",
      "\u001b[1;31mStopIteration\u001b[0m                             Traceback (most recent call last)",
      "Input \u001b[1;32mIn [30]\u001b[0m, in \u001b[0;36m<cell line: 9>\u001b[1;34m()\u001b[0m\n\u001b[0;32m      7\u001b[0m \u001b[38;5;28mprint\u001b[39m (\u001b[38;5;28mnext\u001b[39m(x_iter))\n\u001b[0;32m      8\u001b[0m \u001b[38;5;28mprint\u001b[39m (\u001b[38;5;28mnext\u001b[39m(x_iter))\n\u001b[1;32m----> 9\u001b[0m \u001b[38;5;28mprint\u001b[39m (\u001b[38;5;28;43mnext\u001b[39;49m\u001b[43m(\u001b[49m\u001b[43mx_iter\u001b[49m\u001b[43m)\u001b[49m)\n",
      "\u001b[1;31mStopIteration\u001b[0m: "
     ]
    }
   ],
   "source": [
    "# Iterators can be created from sequences with the built-in function iter()\n",
    "\n",
    "xs = [1,2,3]\n",
    "x_iter = iter(xs)\n",
    "\n",
    "print (next(x_iter))\n",
    "print (next(x_iter))\n",
    "print (next(x_iter))\n",
    "print (next(x_iter))"
   ]
  },
  {
   "cell_type": "code",
   "execution_count": 31,
   "metadata": {},
   "outputs": [
    {
     "name": "stdout",
     "output_type": "stream",
     "text": [
      "1\n",
      "2\n",
      "3\n"
     ]
    }
   ],
   "source": [
    "# Most commonly, iterators are used (automatically) within a for loop\n",
    "# which terminates when it encouters a StopIteration exception\n",
    "\n",
    "x_iter = iter(xs)\n",
    "for x in x_iter:\n",
    "    print (x)"
   ]
  },
  {
   "cell_type": "markdown",
   "metadata": {},
   "source": [
    "## More on comprehensions"
   ]
  },
  {
   "cell_type": "code",
   "execution_count": 32,
   "metadata": {},
   "outputs": [
    {
     "name": "stdout",
     "output_type": "stream",
     "text": [
      "<generator object <genexpr> at 0x00000180FD4484A0>\n",
      "[0, 1, 2, 3, 4, 5, 6, 7, 8, 9]\n",
      "{0, 1, 2, 3, 4, 5, 6, 7, 8, 9}\n",
      "{0: 'x', 1: 'x', 2: 'x', 3: 'x', 4: 'x', 5: 'x', 6: 'x', 7: 'x', 8: 'x', 9: 'x'}\n"
     ]
    }
   ],
   "source": [
    "# A generator expression\n",
    "\n",
    "print ((x for x in range(10)))\n",
    "\n",
    "# A list comprehesnnion\n",
    "\n",
    "print ([x for x in range(10)])\n",
    "\n",
    "# A set comprehension\n",
    "\n",
    "print ({x for x in range(10)})\n",
    "\n",
    "# A dictionary comprehension\n",
    "\n",
    "print ({x: \"x\" for x in range(10)})"
   ]
  },
  {
   "cell_type": "markdown",
   "metadata": {},
   "source": [
    "## Useful Modules\n",
    "\n",
    "You may want to have a look at the content of the following modules for further usage of (HO) functions:\n",
    "  - [operator](https://docs.python.org/3/library/operator.html)\n",
    "  - [functools](https://docs.python.org/3/library/functools.html)\n",
    "  - [itertools](https://docs.python.org/3/library/itertools.html)\n",
    "  - [toolz](https://pypi.org/project/toolz/)\n",
    "  - [funcy](https://pypi.org/project/funcy/)"
   ]
  },
  {
   "cell_type": "markdown",
   "metadata": {},
   "source": [
    "## Decorators\n",
    "\n",
    "Decorators are a type of HOF that take a function and return a wrapped function that provides additional useful properties.\n",
    "\n",
    "Examples:\n",
    "\n",
    "  - logging\n",
    "  - profiling\n",
    "  - Just-In-Time (JIT) compilation"
   ]
  },
  {
   "cell_type": "code",
   "execution_count": 33,
   "metadata": {},
   "outputs": [],
   "source": [
    "def my_decorator(func):\n",
    "    def wrapper():\n",
    "        print(\"Something is happening before the function is called.\")\n",
    "        func()\n",
    "        print(\"Something is happening after the function is called.\")\n",
    "    return wrapper\n",
    "\n",
    "def say_whee():\n",
    "    print(\"Whee!\")\n",
    "\n",
    "say_whee = my_decorator(say_whee)"
   ]
  },
  {
   "cell_type": "code",
   "execution_count": 34,
   "metadata": {},
   "outputs": [
    {
     "name": "stdout",
     "output_type": "stream",
     "text": [
      "Something is happening before the function is called.\n",
      "Whee!\n",
      "Something is happening after the function is called.\n"
     ]
    }
   ],
   "source": [
    "say_whee()"
   ]
  },
  {
   "cell_type": "markdown",
   "metadata": {},
   "source": [
    "Python allows you to use decorators in a simpler way with the @ symbol, sometimes called the “pie” syntax"
   ]
  },
  {
   "cell_type": "code",
   "execution_count": 35,
   "metadata": {},
   "outputs": [],
   "source": [
    "def my_decorator(func):\n",
    "    def wrapper():\n",
    "        print(\"Something is happening before the function is called.\")\n",
    "        func()\n",
    "        print(\"Something is happening after the function is called.\")\n",
    "    return wrapper\n",
    "\n",
    "@my_decorator\n",
    "def say_whee():\n",
    "    print(\"Whee!\")"
   ]
  },
  {
   "cell_type": "code",
   "execution_count": 36,
   "metadata": {},
   "outputs": [
    {
     "name": "stdout",
     "output_type": "stream",
     "text": [
      "Something is happening before the function is called.\n",
      "Whee!\n",
      "Something is happening after the function is called.\n"
     ]
    }
   ],
   "source": [
    "say_whee()"
   ]
  },
  {
   "cell_type": "markdown",
   "metadata": {},
   "source": [
    "# Classes and Objects\n",
    "\n",
    "Old school object-oriented programming is possible and often used in python. Classes are defined similarly to standard object-oriented languages, with similar functionalities.\n",
    "\n",
    "The main python doc [page](https://docs.python.org/3/tutorial/classes.html) is worth reading through.\n",
    "EVERYTHING IS PUBLIC"
   ]
  },
  {
   "cell_type": "code",
   "execution_count": 40,
   "metadata": {},
   "outputs": [
    {
     "name": "stdout",
     "output_type": "stream",
     "text": [
      "buddy 12\n",
      "3\n"
     ]
    }
   ],
   "source": [
    "class Pet:\n",
    "    # the \"constructor\"\n",
    "    def __init__(self, name, age):  #inizialize the elements of the class\n",
    "        self.name=name\n",
    "        self.age=age\n",
    "    # class functions take the \"self\" parameter !!!\n",
    "    def set_name(self,name):\n",
    "        self.name=name\n",
    "    def convert_age(self,factor):\n",
    "        self.age*=factor\n",
    "\n",
    "buddy=Pet(\"buddy\",12)\n",
    "print (buddy.name, buddy.age)\n",
    "buddy.age=3\n",
    "print (buddy.age)\n",
    "\n"
   ]
  },
  {
   "cell_type": "code",
   "execution_count": 41,
   "metadata": {},
   "outputs": [
    {
     "name": "stdout",
     "output_type": "stream",
     "text": [
      "tobia\n",
      "70\n"
     ]
    }
   ],
   "source": [
    "# ineritance is straightforward\n",
    "class Dog(Pet):\n",
    "    # the following variables is \"global\", i.e. holds for all \"Dog\" objects\n",
    "    species = \"mammal\"\n",
    "    # functions can be redefined as usual\n",
    "    def convert_age(self):\n",
    "        self.age*=7\n",
    "    def set_species(self, species):\n",
    "        self.species = species\n",
    "        \n",
    "puppy=Dog(\"tobia\",10)\n",
    "print(puppy.name)\n",
    "puppy.convert_age()\n",
    "print(puppy.age)\n",
    "\n"
   ]
  },
  {
   "cell_type": "code",
   "execution_count": null,
   "metadata": {},
   "outputs": [],
   "source": []
  }
 ],
 "metadata": {
  "kernelspec": {
   "display_name": "Python 3 (ipykernel)",
   "language": "python",
   "name": "python3"
  },
  "language_info": {
   "codemirror_mode": {
    "name": "ipython",
    "version": 3
   },
   "file_extension": ".py",
   "mimetype": "text/x-python",
   "name": "python",
   "nbconvert_exporter": "python",
   "pygments_lexer": "ipython3",
   "version": "3.9.12"
  }
 },
 "nbformat": 4,
 "nbformat_minor": 2
}
