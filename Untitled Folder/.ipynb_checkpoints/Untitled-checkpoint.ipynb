{
 "cells": [
  {
   "cell_type": "code",
   "execution_count": 1,
   "id": "852b1c57",
   "metadata": {},
   "outputs": [],
   "source": [
    "import numpy as np\n",
    "import numpy.random as npr\n",
    "from matplotlib import pyplot as plt"
   ]
  },
  {
   "cell_type": "code",
   "execution_count": 2,
   "id": "32d0091a",
   "metadata": {},
   "outputs": [],
   "source": [
    "def is_pos_def(x):\n",
    "    return np.all(np.linalg.eigvals(x) > 0)"
   ]
  },
  {
   "cell_type": "code",
   "execution_count": 3,
   "id": "ab484f10",
   "metadata": {},
   "outputs": [],
   "source": [
    "from __future__ import print_function\n",
    "from ipywidgets import interact, interactive, fixed, interact_manual\n",
    "import ipywidgets as widgets\n"
   ]
  },
  {
   "cell_type": "code",
   "execution_count": 32,
   "id": "ea6adeef",
   "metadata": {},
   "outputs": [],
   "source": [
    "def f(nn, x2max, x2min, Emax, Emin, ste, gg=1):\n",
    "    #m = np.ones((n,n))\n",
    "    n = int(nn)\n",
    "    g = gg\n",
    "\n",
    "\n",
    "    #param_x2 = np.arange(0, 1, 0.06)\n",
    "    #param_E = np.arange(1, 2, 0.06)\n",
    "    #steps=int(1/0.06)+1\n",
    "    #print(steps)\n",
    "    #print(len(param_x2))\n",
    "    steps = int(ste)\n",
    "    param_x2 = np.linspace(x2min, x2max, steps)\n",
    "    param_E = np.linspace(Emin, Emax, steps)\n",
    "    #print(max(param_E))\n",
    "    #param_x4 = (param_E - 2*param_x2)/(3*g)\n",
    "    #x2,x4 = np.meshgrid(param_x2, param_x4)\n",
    "    x2,Eok = np.meshgrid(param_x2, param_E)\n",
    "    #print(Eok)\n",
    "    x4 = (Eok - 2*x2)/(3*g)\n",
    "    results = []\n",
    "\n",
    "\n",
    "    #calc sequence \n",
    "\n",
    "    dim = 2*(n-1) +1\n",
    "    seq = np.zeros((steps, steps, dim))\n",
    "    seq[:, :, 0] = 1\n",
    "    seq[:, :, 2] = x2\n",
    "    seq[:, :, 4] = x4\n",
    "    #Eok = 3*g*x4 + 2*x2\n",
    "    #print(Eok)\n",
    "\n",
    "    #a = np.arange(6)\n",
    "    #a = np.reshape(a, (2,3))\n",
    "    #a = np.concatenate(a)\n",
    "\n",
    "    #print(a)\n",
    "\n",
    "    for i in range(3, dim-3, 2):\n",
    "        seq[:, :, i+3] = (4*i*Eok*seq[:,:,i-1] + i*(i-1)*(i-2)*seq[:,:,i-3] - 4*(i+1)*seq[:,:,i+1])/(4*g*(i+2))\n",
    "\n",
    "    print(\"fino a qua va\")\n",
    "    #print(seq[0, :])\n",
    "    #a = np.array([[[1,i,1] for i in range(5)] for j in range(3)])\n",
    "    #print(a.shape)\n",
    "    m = np.zeros((n,n))\n",
    "    a= plt.figure()\n",
    "    axes= a.add_axes([0.1,0.1,0.8,0.8])\n",
    "    axes.set_xlim([Emin,Emax])\n",
    "    axes.set_ylim([x2min,x2max])\n",
    "    \n",
    "    for l in range(steps):\n",
    "        for i in range(steps):\n",
    "            for j in range(n):\n",
    "                for k in range(n):\n",
    "                    m[j,k] = seq[l,i,j+k]\n",
    "            if(is_pos_def(m)):\n",
    "                #print(\"x2:\",'%.15f' %x2[l,i],'%.15f' %Eok[l,i])\n",
    "                axes.scatter(Eok[l,i],x2[l,i])\n",
    "    #mp = np.array([[seq[i,j:n+j] for j in range(n)] for i in range(steps)])\n",
    "\n",
    "    #print(mp[0,:])\n",
    "    #print(mp.shape)\n",
    "    #note: x^2 parameter not yet set"
   ]
  },
  {
   "cell_type": "code",
   "execution_count": 33,
   "id": "2f5ceee9",
   "metadata": {
    "scrolled": true
   },
   "outputs": [],
   "source": [
    "#interact(f, nn=(0,10,1), x2max=(0.1,1,0.05), x2min=(0.002,1,0.05), Emax=(1,2.05), Emin=(1,2,0.05), ste=(5,50,5));"
   ]
  },
  {
   "cell_type": "code",
   "execution_count": 34,
   "id": "801b2d53",
   "metadata": {
    "scrolled": true
   },
   "outputs": [],
   "source": [
    "#f(, 0.35, 0.25, 0.8, 0.57, 100)"
   ]
  },
  {
   "cell_type": "code",
   "execution_count": 39,
   "id": "10fa7fe8",
   "metadata": {},
   "outputs": [
    {
     "name": "stdout",
     "output_type": "stream",
     "text": [
      "fino a qua va\n"
     ]
    },
    {
     "data": {
      "image/png": "[encoded data removed]",
      "text/plain": [
       "<Figure size 640x480 with 1 Axes>"
      ]
     },
     "metadata": {},
     "output_type": "display_data"
    }
   ],
   "source": [
    "f(5, 3, 0, 10, 0, 100)"
   ]
  },
  {
   "cell_type": "code",
   "execution_count": null,
   "id": "805eea77",
   "metadata": {},
   "outputs": [],
   "source": []
  }
 ],
 "metadata": {
  "kernelspec": {
   "display_name": "Python 3 (ipykernel)",
   "language": "python",
   "name": "python3"
  },
  "language_info": {
   "codemirror_mode": {
    "name": "ipython",
    "version": 3
   },
   "file_extension": ".py",
   "mimetype": "text/x-python",
   "name": "python",
   "nbconvert_exporter": "python",
   "pygments_lexer": "ipython3",
   "version": "3.9.13"
  }
 },
 "nbformat": 4,
 "nbformat_minor": 5
}
