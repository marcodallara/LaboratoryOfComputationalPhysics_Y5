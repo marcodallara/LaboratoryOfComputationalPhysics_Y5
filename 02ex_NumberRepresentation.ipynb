{
 "cells": [
  {
   "cell_type": "markdown",
   "metadata": {},
   "source": [
<<<<<<< HEAD
    "1\\. Write a function that converts number representation, bin<->dec<->hex. (Clearly using the corresponding python built-in functions is not fair..). "
=======
    "1\\. Write a function that converts number representation, bin<->dec<->hex. (Clearly using the corresponding python built-in functions is not fair..)\n",
    "\n",
    "\n"
>>>>>>> main
   ]
  },
  {
   "cell_type": "code",
<<<<<<< HEAD
   "execution_count": 27,
=======
   "execution_count": 64,
>>>>>>> main
   "metadata": {},
   "outputs": [
    {
     "name": "stdout",
     "output_type": "stream",
     "text": [
<<<<<<< HEAD
      "1000001\n"
=======
      "2139095040\n"
>>>>>>> main
     ]
    }
   ],
   "source": [
<<<<<<< HEAD
    "def get_digit(number, n):\n",
    "    return number // 10**n % 10\n",
    "\n",
    "import array\n",
    "\n",
    "import numpy as np\n",
    "np.array()\n",
    "abs\n",
    "#bin to dec\n",
    "def btd(b):\n",
    "    n = 0\n",
    "    d = 0\n",
    "    while((b//10**n) != 0):\n",
    "        d += 2**n * get_digit(b, n)\n",
    "        n += 1\n",
    "    return d\n",
    "\n",
    "#bin to hex and viceversa\n",
    "#def bth(b):\n",
    "    \n",
    "#dec to bin\n",
    "def dtb(d):\n",
    "    b = 0\n",
    "    n = 0\n",
    "    q = 1\n",
    "    while(q != 0):\n",
    "        q = d // 2\n",
    "        r = d % 2\n",
    "        b += r * 10**n\n",
    "        n += 1\n",
    "        d = q\n",
    "    return(b)\n",
    "\n",
    "#print(dtb(65))"
=======
    "#bin to dec, wrong!\n",
    "def btd(a):\n",
    "    b = 0\n",
    "    mask = 0\n",
    "    l = str(a)\n",
    "    for i in range(len(l)):\n",
    "        mask = 2**i & a\n",
    "        print(mask)\n",
    "        if mask:\n",
    "            b = b + 2**i\n",
    "    return b\n",
    "#dec to bin\n",
    "#def dtb(a):\n",
    "    \n"
>>>>>>> main
   ]
  },
  {
   "cell_type": "markdown",
   "metadata": {},
   "source": [
    "2\\. Write a function that converts a 32 bit word into a single precision floating point (i.e. interprets the various bits as sign, mantissa and exponent)"
   ]
  },
  {
   "cell_type": "code",
<<<<<<< HEAD
   "execution_count": 100,
=======
   "execution_count": 124,
>>>>>>> main
   "metadata": {},
   "outputs": [
    {
     "name": "stdout",
     "output_type": "stream",
     "text": [
<<<<<<< HEAD
      "3145728\n",
      "-5.5\n"
=======
      "0b110000011\n",
      "(1, 387, 1664836698112)\n"
>>>>>>> main
     ]
    }
   ],
   "source": [
<<<<<<< HEAD
    "def fp(w):\n",
    "    s = w >> 31\n",
    "    e = (w & (2**31-1)) >> 23\n",
    "    e = e - 127\n",
    "    m = (w & (2**23-1))\n",
    "    print(m)\n",
    "    m = 1 + m / 2**(23)\n",
    "    if s: return - (m * 2**e)\n",
    "    else: return m * 2**e\n",
    "    #add all the special cases\n",
    "    \n",
    "print(fp(0b11000000101100000000000000000000))\n"
=======
    "\n",
    "def floating_point(w):\n",
    "    #w = int(w, 2)\n",
    "    #s = w & 2147483648\n",
    "    #e = w & int(, 2)\n",
    "    #m = w & 8388607\n",
    "    #s = s >> 31\n",
    "    #e = e >> 24\n",
    "    #e = e << 1\n",
    "    #e = e - 127\n",
    "    s = w >> 31\n",
    "    e = w >> 23\n",
    "    #e = e << 1\n",
    "    m = w << 9\n",
    "    print (bin(e))\n",
    "    return (s, e, m)\n",
    "\n",
    "\n",
    "print(floating_point(0b11000001110100000000000000000000))"
>>>>>>> main
   ]
  },
  {
   "cell_type": "markdown",
   "metadata": {},
   "source": [
    "3\\. Write a program to determine the underflow and overflow limits (within a factor of 2) for python on your computer. \n",
    "\n",
    "**Tips**: define two variables inizialized to 1 and halve/double them enough time to exceed the under/over-flow limits  "
   ]
  },
  {
   "cell_type": "markdown",
   "metadata": {},
   "source": [
    "4\\. Write a program to determine the machine precision\n",
    "\n",
    "**Tips**: define a new variable by adding a smaller and smaller value (proceeding similarly to prob. 2) to an original variable and check the point where the two are the same "
   ]
  },
  {
   "cell_type": "markdown",
   "metadata": {},
   "source": [
    "5\\. Write a function that takes in input three parameters $a$, $b$ and $c$ and prints out the two solutions to the quadratic equation $ax^2+bx+c=0$ using the standard formula:\n",
    "$$\n",
    "x=\\frac{-b\\pm\\sqrt{b^2-4ac}}{2a}\n",
    "$$\n",
    "\n",
    "(a) use the program to compute the solution for $a=0.001$, $b=1000$ and $c=0.001$\n",
    "\n",
    "(b) re-express the standard solution formula by multiplying top and bottom by $-b\\mp\\sqrt{b^2-4ac}$ and again find the solution for $a=0.001$, $b=1000$ and $c=0.001$. How does it compare with what previously obtained? Why?\n",
    "\n",
    "(c) write a function that compute the roots of a quadratic equation accurately in all cases"
   ]
  },
  {
   "cell_type": "markdown",
   "metadata": {},
   "source": [
    "6\\. Write a program that implements the function $f(x)=x(x−1)$\n",
    "\n",
    "(a) Calculate the derivative of the function at the point $x = 1$ using the derivative definition:\n",
    "\n",
    "$$\n",
    "\\frac{{\\rm d}f}{{\\rm d}x} = \\lim_{\\delta\\to0} \\frac{f(x+\\delta)-f(x)}{\\delta}\n",
    "$$\n",
    "\n",
    "with $\\delta = 10^{−2}$. Calculate the true value of the same derivative analytically and compare with the answer your program gives. The two will not agree perfectly. Why not?\n",
    "\n",
    "(b) Repeat the calculation for $\\delta = 10^{−4}, 10^{−6}, 10^{−8}, 10^{−10}, 10^{−12}$ and $10^{−14}$. How does the accuracy scales with $\\delta$?"
   ]
  },
  {
   "cell_type": "markdown",
   "metadata": {},
   "source": [
    "7\\. Consider the integral of the semicircle of radius 1:\n",
    "$$\n",
    "I=\\int_{-1}^{1} \\sqrt(1-x^2) {\\rm d}x\n",
    "$$\n",
    "which it's known to be $I=\\frac{\\pi}{2}=1.57079632679...$.\n",
    "Alternatively we can use the Riemann definition of the integral:\n",
    "$$\n",
    "I=\\lim_{N\\to\\infty} \\sum_{k=1}^{N} h y_k \n",
    "$$\n",
    "\n",
    "with $h=2/N$ the width of each of the $N$ slices the domain is divided into and where\n",
    "$y_k$ is the value of the function at the $k-$th slice.\n",
    "\n",
    "(a) Write a programe to compute the integral with $N=100$. How does the result compares to the true value?\n",
    "\n",
    "(b) How much can $N$ be increased if the computation needs to be run in less than a second? What is the gain in running it for 1 minute? \n"
   ]
  },
  {
   "cell_type": "code",
   "execution_count": null,
   "metadata": {},
   "outputs": [],
   "source": []
  }
 ],
 "metadata": {
  "kernelspec": {
   "display_name": "Python 3",
   "language": "python",
   "name": "python3"
  },
  "language_info": {
   "codemirror_mode": {
    "name": "ipython",
    "version": 3
   },
   "file_extension": ".py",
   "mimetype": "text/x-python",
   "name": "python",
   "nbconvert_exporter": "python",
   "pygments_lexer": "ipython3",
<<<<<<< HEAD
   "version": "3.9.13"
=======
   "version": "3.6.8"
>>>>>>> main
  }
 },
 "nbformat": 4,
 "nbformat_minor": 4
}
