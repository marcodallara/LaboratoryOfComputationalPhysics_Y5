{
 "cells": [
  {
   "cell_type": "markdown",
   "metadata": {},
   "source": [
    "8. Nested list comprehension"
   ]
  },
  {
   "cell_type": "code",
   "execution_count": 13,
   "metadata": {},
   "outputs": [
    {
     "name": "stdout",
     "output_type": "stream",
     "text": [
      "{(16, 9, 25), (9, 16, 25)}\n"
     ]
    }
   ],
   "source": [
    "t = ()\n",
    "u = set()\n",
    "for a in range(1,11):\n",
    "    for b in range(1,11):\n",
    "        c = a**2 + b**2\n",
    "        if  c<100 and (c**.5).is_integer():\n",
    "            t = (a**2, b**2, c)\n",
    "            u.add(t)\n",
    "    \n",
    "        \n",
    "print(u)\n",
    "        "
   ]
  },
  {
   "cell_type": "code",
   "execution_count": null,
   "metadata": {},
   "outputs": [],
   "source": []
  }
 ],
 "metadata": {
  "kernelspec": {
   "display_name": "Python 3",
   "language": "python",
   "name": "python3"
  },
  "language_info": {
   "codemirror_mode": {
    "name": "ipython",
    "version": 3
   },
   "file_extension": ".py",
   "mimetype": "text/x-python",
   "name": "python",
   "nbconvert_exporter": "python",
   "pygments_lexer": "ipython3",
   "version": "3.6.8"
  }
 },
 "nbformat": 4,
 "nbformat_minor": 2
}
